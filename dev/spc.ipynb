{
 "cells": [
  {
   "cell_type": "code",
   "execution_count": 1,
   "metadata": {},
   "outputs": [],
   "source": [
    "# https://gist.github.com/tomjemmett/c167376e5b6464ec1c00975be2d7864e\n",
    "\n",
    "import numpy as np\n",
    "from typing import List\n",
    "from collections import namedtuple\n",
    "\n",
    "def seven_point_one_side_mean(relative_to_mean: List[float]) -> List[bool]:\n",
    "    \"\"\"\n",
    "    :param relative_to_mean: list of floats\n",
    "    :return: list of booleans\n",
    "    \"\"\"\n",
    "    # pad the vector with 6 zero's at the beginning\n",
    "    vp = np.insert(relative_to_mean, 0, [0] * 6)\n",
    "    \n",
    "    return [\n",
    "      np.all(vp[i + 6] == vp[i:(i + 6)]) # and (vp[i + 6] != 0)\n",
    "      for i in range(len(relative_to_mean))\n",
    "    ]\n",
    "\n",
    "# Note that the code np.all(vp[i + 6] == vp[i:(i + 6)]) is not comparing the value at the 7th\n",
    "# position with the mean of the values from the 1st to 6th position as the function name suggests,\n",
    "# it is checking if the value at the 7th position is equal to all the values from the 1st to 6th \n",
    "# position.\n",
    "\n",
    "def alt_seven_point_one_side_mean(relative_to_mean: List[float]) -> List[bool]:\n",
    "    \"\"\"\n",
    "    :param relative_to_mean: list of floats\n",
    "    :return: list of booleans\n",
    "    \"\"\"\n",
    "    # pad the vector with 6 zero's at the beginning\n",
    "    vp = [0]*6 + relative_to_mean\n",
    "    res = []\n",
    "    for i in range(len(relative_to_mean)):\n",
    "        mean = sum(vp[i-1:6])/6\n",
    "        if vp[i] == mean and vp[i] != 0:\n",
    "            res.append(True)\n",
    "        else:\n",
    "            res.append(False)\n",
    "    return res\n",
    "\n",
    "def seven_point_trend(values: List[float]) -> List[int]:\n",
    "    \"\"\"\n",
    "    Given a list of floats, this function checks for a trend in the last 7 values. \n",
    "    It returns a list of integers indicating the trend (-1 for decreasing trend, \n",
    "    1 for increasing trend, and 0 for no trend) after the 6th consecutive change.\n",
    "\n",
    "    Parameters:\n",
    "        values (List[float]): List of float numbers\n",
    "\n",
    "    Returns:\n",
    "        List[int]: List of integers indicating the trend (-1 for decreasing trend, \n",
    "        1 for increasing trend, and 0 for no trend) after the 6th consecutive change.\n",
    "    \"\"\"\n",
    "    # edge case: len(values) < 7\n",
    "    # check if the number of elements in the input list is less than 7\n",
    "    if len(values) < 7:\n",
    "        # return a list of zeroes of the same length as the input list\n",
    "        return np.zeros(len(values), dtype=int).tolist()\n",
    "    \n",
    "    # calculate the difference between consecutive values and store them in the \n",
    "    # diff variable, with 6 zeros to indicate no change before the values begin.\n",
    "    diff = np.insert(np.diff(values), 0, [0] * 6)\n",
    "\n",
    "    # create an empty list to store the trend\n",
    "    trend = []\n",
    "\n",
    "    for i in range(len(diff)-5):\n",
    "        # Check if all the differences in the last 6 elements are positive\n",
    "        if all(x>0 for x in diff[i:i+6]):\n",
    "            # Append 1 to the trend list, indicating an increasing trend\n",
    "            trend.append(1)\n",
    "        # Check if all the differences in the last 6 elements are negative\n",
    "        elif all(x<0 for x in diff[i:i+6]):\n",
    "            # Append -1 to the trend list, indicating a decreasing trend\n",
    "            trend.append(-1)\n",
    "        else:\n",
    "            # Append 0 to the trend list, indicating no trend\n",
    "            trend.append(0)\n",
    "    return trend\n",
    "\n",
    "def part_of_seven_trend(values):\n",
    "    # pad the vector with 6 zero's at the end\n",
    "    vp = np.insert(values, len(values), [0] * 6)\n",
    "\n",
    "    return [\n",
    "      np.any(np.abs(vp[i:(i + 7)]) == 1)\n",
    "      for i in range(len(values))\n",
    "    ]\n",
    "\n",
    "def two_in_three(close_to_limits, relative_to_mean):\n",
    "  if len(close_to_limits) == 0:\n",
    "    return []\n",
    "  # pad the vectors with two 0 at start, two 0 at end\n",
    "  close_to_limits_pad = np.pad(close_to_limits, 2, \"constant\", constant_values=False)\n",
    "  relative_to_mean_pad = np.pad(relative_to_mean, 2, \"constant\", constant_values=0) # relative to mean\n",
    "\n",
    "  return [\n",
    "      np.any([\n",
    "          sum(close_to_limits_pad[j:(j+3)]) >= 2 and abs(sum(relative_to_mean_pad[j:(j+3)])) == 3\n",
    "          for j in range(i, i+3)\n",
    "      ])\n",
    "      for i in range(len(close_to_limits))\n",
    "  ]\n",
    "\n",
    "def part_of_two_in_three(two_in_three, close_to_limits):\n",
    "  return [\n",
    "    i and j\n",
    "    for i, j in zip(close_to_limits, two_in_three)\n",
    "  ]\n",
    "\n",
    "def special_cause_flag(values, outside_limits, close_to_limits, relative_to_mean):\n",
    "    return (\n",
    "        outside_limits |\n",
    "        part_of_seven_trend(seven_point_one_side_mean(relative_to_mean)) |\n",
    "        part_of_seven_trend(seven_point_trend(values)) |\n",
    "        part_of_two_in_three(two_in_three(close_to_limits, relative_to_mean), close_to_limits)\n",
    "    )\n",
    "\n",
    "def spc_x_calc(values, fix_after_n_points = None):\n",
    "    fix_values = values[:fix_after_n_points]\n",
    "    # constant\n",
    "    limit = 2.66\n",
    "\n",
    "    mean = np.mean(fix_values)\n",
    "    mr = np.abs(np.diff(fix_values))\n",
    "    amr = np.mean(mr)\n",
    "\n",
    "    # screen for outliers\n",
    "    mr = mr[mr < 3.267 * amr]\n",
    "    amr = np.mean(mr)\n",
    "\n",
    "    lpl = mean - (limit * amr)\n",
    "    upl = mean + (limit * amr)\n",
    "    \n",
    "    # identify near lower/upper process limits\n",
    "    nlpl = mean - (limit * 2 / 3 * amr)\n",
    "    nupl = mean + (limit * 2 / 3 * amr)\n",
    "\n",
    "    # identify any points which are outside the upper or lower process limits\n",
    "    outside_limits = (values < lpl) | (values > upl)\n",
    "    # identify whether a point is above or below the mean\n",
    "    relative_to_mean = np.sign(values - mean)\n",
    "\n",
    "    # identify if a point is between the near process limits and process limits\n",
    "    close_to_limits = ~outside_limits & ((values < nlpl) | (values > nupl))\n",
    "\n",
    "    spc_return_type = namedtuple(\"spc_x\", [\n",
    "        \"values\",\n",
    "        \"mean\",\n",
    "        \"lpl\",\n",
    "        \"upl\",\n",
    "        \"outside_limits\",\n",
    "        \"relative_to_mean\",\n",
    "        \"close_to_limits\",\n",
    "        \"special_cause_flag\"\n",
    "    ])\n",
    "\n",
    "    return spc_return_type(\n",
    "        values,\n",
    "        mean,\n",
    "        lpl,\n",
    "        upl,\n",
    "        outside_limits,\n",
    "        relative_to_mean,\n",
    "        close_to_limits,\n",
    "        special_cause_flag(values, outside_limits, close_to_limits, relative_to_mean)\n",
    "    )"
   ]
  },
  {
   "cell_type": "code",
   "execution_count": 2,
   "metadata": {},
   "outputs": [
    {
     "data": {
      "text/plain": [
       "spc_x(values=[1, 2, 3, 3, 2, 4, 5, 8], mean=3.5, lpl=0.07999999999999963, upl=6.92, outside_limits=array([False, False, False, False, False, False, False,  True]), relative_to_mean=array([-1., -1., -1., -1., -1.,  1.,  1.,  1.]), close_to_limits=array([ True, False, False, False, False, False, False, False]), special_cause_flag=array([False, False, False, False, False, False, False,  True]))"
      ]
     },
     "execution_count": 2,
     "metadata": {},
     "output_type": "execute_result"
    }
   ],
   "source": [
    "spc_x_calc([1,2,3,3,2,4,5,8])"
   ]
  },
  {
   "cell_type": "code",
   "execution_count": 3,
   "metadata": {},
   "outputs": [
    {
     "name": "stdout",
     "output_type": "stream",
     "text": [
      "          date  data\n",
      "0   2020-01-01    61\n",
      "1   2020-01-02    69\n",
      "2   2020-01-03    35\n",
      "3   2020-01-04    59\n",
      "4   2020-01-05    85\n",
      "..         ...   ...\n",
      "736 2022-01-06    28\n",
      "737 2022-01-07    59\n",
      "738 2022-01-08     0\n",
      "739 2022-01-09    88\n",
      "740 2022-01-10    35\n",
      "\n",
      "[741 rows x 2 columns]\n"
     ]
    }
   ],
   "source": [
    "import pandas as pd\n",
    "import numpy as np\n",
    "\n",
    "# Create a pandas dataframe with a date column and a data column\n",
    "# The data column will have random integers between 0 and 100\n",
    "\n",
    "date_rng = pd.date_range(start='1/1/2020', end='1/10/2022', freq='D')\n",
    "df = pd.DataFrame(date_rng, columns=['date'])\n",
    "df['data'] = np.random.randint(0,100,size=(len(date_rng)))\n",
    "\n",
    "print(df)"
   ]
  },
  {
   "cell_type": "code",
   "execution_count": 4,
   "metadata": {},
   "outputs": [
    {
     "data": {
      "text/html": [
       "<div>\n",
       "<style scoped>\n",
       "    .dataframe tbody tr th:only-of-type {\n",
       "        vertical-align: middle;\n",
       "    }\n",
       "\n",
       "    .dataframe tbody tr th {\n",
       "        vertical-align: top;\n",
       "    }\n",
       "\n",
       "    .dataframe thead th {\n",
       "        text-align: right;\n",
       "    }\n",
       "</style>\n",
       "<table border=\"1\" class=\"dataframe\">\n",
       "  <thead>\n",
       "    <tr style=\"text-align: right;\">\n",
       "      <th></th>\n",
       "      <th>date</th>\n",
       "      <th>data</th>\n",
       "      <th>mean</th>\n",
       "      <th>lpl</th>\n",
       "      <th>upl</th>\n",
       "      <th>outside_limits</th>\n",
       "      <th>relative_to_mean</th>\n",
       "      <th>close_to_limits</th>\n",
       "      <th>special_cause_flag</th>\n",
       "    </tr>\n",
       "  </thead>\n",
       "  <tbody>\n",
       "    <tr>\n",
       "      <th>0</th>\n",
       "      <td>2020-01-01</td>\n",
       "      <td>61</td>\n",
       "      <td>51.236167</td>\n",
       "      <td>-41.97167</td>\n",
       "      <td>144.444005</td>\n",
       "      <td>False</td>\n",
       "      <td>1.0</td>\n",
       "      <td>False</td>\n",
       "      <td>False</td>\n",
       "    </tr>\n",
       "    <tr>\n",
       "      <th>1</th>\n",
       "      <td>2020-01-02</td>\n",
       "      <td>69</td>\n",
       "      <td>51.236167</td>\n",
       "      <td>-41.97167</td>\n",
       "      <td>144.444005</td>\n",
       "      <td>False</td>\n",
       "      <td>1.0</td>\n",
       "      <td>False</td>\n",
       "      <td>False</td>\n",
       "    </tr>\n",
       "    <tr>\n",
       "      <th>2</th>\n",
       "      <td>2020-01-03</td>\n",
       "      <td>35</td>\n",
       "      <td>51.236167</td>\n",
       "      <td>-41.97167</td>\n",
       "      <td>144.444005</td>\n",
       "      <td>False</td>\n",
       "      <td>-1.0</td>\n",
       "      <td>False</td>\n",
       "      <td>False</td>\n",
       "    </tr>\n",
       "    <tr>\n",
       "      <th>3</th>\n",
       "      <td>2020-01-04</td>\n",
       "      <td>59</td>\n",
       "      <td>51.236167</td>\n",
       "      <td>-41.97167</td>\n",
       "      <td>144.444005</td>\n",
       "      <td>False</td>\n",
       "      <td>1.0</td>\n",
       "      <td>False</td>\n",
       "      <td>False</td>\n",
       "    </tr>\n",
       "    <tr>\n",
       "      <th>4</th>\n",
       "      <td>2020-01-05</td>\n",
       "      <td>85</td>\n",
       "      <td>51.236167</td>\n",
       "      <td>-41.97167</td>\n",
       "      <td>144.444005</td>\n",
       "      <td>False</td>\n",
       "      <td>1.0</td>\n",
       "      <td>False</td>\n",
       "      <td>False</td>\n",
       "    </tr>\n",
       "    <tr>\n",
       "      <th>...</th>\n",
       "      <td>...</td>\n",
       "      <td>...</td>\n",
       "      <td>...</td>\n",
       "      <td>...</td>\n",
       "      <td>...</td>\n",
       "      <td>...</td>\n",
       "      <td>...</td>\n",
       "      <td>...</td>\n",
       "      <td>...</td>\n",
       "    </tr>\n",
       "    <tr>\n",
       "      <th>736</th>\n",
       "      <td>2022-01-06</td>\n",
       "      <td>28</td>\n",
       "      <td>51.236167</td>\n",
       "      <td>-41.97167</td>\n",
       "      <td>144.444005</td>\n",
       "      <td>False</td>\n",
       "      <td>-1.0</td>\n",
       "      <td>False</td>\n",
       "      <td>False</td>\n",
       "    </tr>\n",
       "    <tr>\n",
       "      <th>737</th>\n",
       "      <td>2022-01-07</td>\n",
       "      <td>59</td>\n",
       "      <td>51.236167</td>\n",
       "      <td>-41.97167</td>\n",
       "      <td>144.444005</td>\n",
       "      <td>False</td>\n",
       "      <td>1.0</td>\n",
       "      <td>False</td>\n",
       "      <td>False</td>\n",
       "    </tr>\n",
       "    <tr>\n",
       "      <th>738</th>\n",
       "      <td>2022-01-08</td>\n",
       "      <td>0</td>\n",
       "      <td>51.236167</td>\n",
       "      <td>-41.97167</td>\n",
       "      <td>144.444005</td>\n",
       "      <td>False</td>\n",
       "      <td>-1.0</td>\n",
       "      <td>False</td>\n",
       "      <td>False</td>\n",
       "    </tr>\n",
       "    <tr>\n",
       "      <th>739</th>\n",
       "      <td>2022-01-09</td>\n",
       "      <td>88</td>\n",
       "      <td>51.236167</td>\n",
       "      <td>-41.97167</td>\n",
       "      <td>144.444005</td>\n",
       "      <td>False</td>\n",
       "      <td>1.0</td>\n",
       "      <td>False</td>\n",
       "      <td>False</td>\n",
       "    </tr>\n",
       "    <tr>\n",
       "      <th>740</th>\n",
       "      <td>2022-01-10</td>\n",
       "      <td>35</td>\n",
       "      <td>51.236167</td>\n",
       "      <td>-41.97167</td>\n",
       "      <td>144.444005</td>\n",
       "      <td>False</td>\n",
       "      <td>-1.0</td>\n",
       "      <td>False</td>\n",
       "      <td>False</td>\n",
       "    </tr>\n",
       "  </tbody>\n",
       "</table>\n",
       "<p>741 rows × 9 columns</p>\n",
       "</div>"
      ],
      "text/plain": [
       "          date  data       mean       lpl         upl  outside_limits  \\\n",
       "0   2020-01-01    61  51.236167 -41.97167  144.444005           False   \n",
       "1   2020-01-02    69  51.236167 -41.97167  144.444005           False   \n",
       "2   2020-01-03    35  51.236167 -41.97167  144.444005           False   \n",
       "3   2020-01-04    59  51.236167 -41.97167  144.444005           False   \n",
       "4   2020-01-05    85  51.236167 -41.97167  144.444005           False   \n",
       "..         ...   ...        ...       ...         ...             ...   \n",
       "736 2022-01-06    28  51.236167 -41.97167  144.444005           False   \n",
       "737 2022-01-07    59  51.236167 -41.97167  144.444005           False   \n",
       "738 2022-01-08     0  51.236167 -41.97167  144.444005           False   \n",
       "739 2022-01-09    88  51.236167 -41.97167  144.444005           False   \n",
       "740 2022-01-10    35  51.236167 -41.97167  144.444005           False   \n",
       "\n",
       "     relative_to_mean  close_to_limits  special_cause_flag  \n",
       "0                 1.0            False               False  \n",
       "1                 1.0            False               False  \n",
       "2                -1.0            False               False  \n",
       "3                 1.0            False               False  \n",
       "4                 1.0            False               False  \n",
       "..                ...              ...                 ...  \n",
       "736              -1.0            False               False  \n",
       "737               1.0            False               False  \n",
       "738              -1.0            False               False  \n",
       "739               1.0            False               False  \n",
       "740              -1.0            False               False  \n",
       "\n",
       "[741 rows x 9 columns]"
      ]
     },
     "execution_count": 4,
     "metadata": {},
     "output_type": "execute_result"
    }
   ],
   "source": [
    "import pandas as pd\n",
    "import numpy as np\n",
    "\n",
    "def spc_x_calc_pandas(df, values_col, fix_after_n_points = None):\n",
    "    values = df[values_col].values\n",
    "    fix_values = values[:fix_after_n_points]\n",
    "    # constant\n",
    "    limit = 2.66\n",
    "\n",
    "    mean = np.mean(fix_values)\n",
    "    mr = np.abs(np.diff(fix_values))\n",
    "    amr = np.mean(mr)\n",
    "\n",
    "    # screen for outliers\n",
    "    mr = mr[mr < 3.267 * amr]\n",
    "    amr = np.mean(mr)\n",
    "\n",
    "    lpl = mean - (limit * amr)\n",
    "    upl = mean + (limit * amr)\n",
    "    \n",
    "    # identify near lower/upper process limits\n",
    "    nlpl = mean - (limit * 2 / 3 * amr)\n",
    "    nupl = mean + (limit * 2 / 3 * amr)\n",
    "\n",
    "    # identify any points which are outside the upper or lower process limits\n",
    "    outside_limits = (values < lpl) | (values > upl)\n",
    "    # identify whether a point is above or below the mean\n",
    "    relative_to_mean = np.sign(values - mean)\n",
    "\n",
    "    # identify if a point is between the near process limits and process limits\n",
    "    close_to_limits = ~outside_limits & ((values < nlpl) | (values > nupl))\n",
    "\n",
    "    # create output pandas dataframe from numpy calculations\n",
    "    output_df = df\n",
    "    output_df['mean'] = mean\n",
    "    output_df['lpl'] = lpl\n",
    "    output_df['upl'] = upl\n",
    "    output_df['outside_limits'] = outside_limits\n",
    "    output_df['relative_to_mean'] = relative_to_mean\n",
    "    output_df['close_to_limits'] = close_to_limits\n",
    "    output_df['special_cause_flag'] = special_cause_flag(values, outside_limits, close_to_limits, relative_to_mean)\n",
    "\n",
    "    return output_df\n",
    "\n",
    "spc = spc_x_calc_pandas(df, 'data')\n",
    "spc"
   ]
  },
  {
   "cell_type": "code",
   "execution_count": 5,
   "metadata": {},
   "outputs": [],
   "source": [
    "import plotly.graph_objects as go\n",
    "from datetime import datetime\n",
    "from dateutil.relativedelta import relativedelta\n",
    "\n",
    "def get_status(row: pd.Series) -> str:\n",
    "    \"\"\"\n",
    "    Given a row of a dataframe, returns a string depending on the values\n",
    "    of the 'outside_limits', 'close_to_limits' and 'relative_to_mean'\n",
    "    columns of that row.\n",
    "    \n",
    "    :param row: A row of a dataframe\n",
    "    :type row: pd.Series\n",
    "    :return: A string indicating the status\n",
    "    :rtype: str\n",
    "    \"\"\"\n",
    "    if row['outside_limits']:\n",
    "        return 'Outside Limit'\n",
    "    elif row['close_to_limits']:\n",
    "        return 'Close to limit'\n",
    "    elif row['relative_to_mean'] > 0:\n",
    "        return 'Above mean'\n",
    "    elif row['relative_to_mean'] < 0:\n",
    "        return 'Below mean'\n",
    "    else:\n",
    "        return ''\n",
    "    \n",
    "def get_colour(row: pd.Series) -> str:\n",
    "    \"\"\"\n",
    "    Given a row of a dataframe, returns a string depending on the values\n",
    "    of the 'outside_limits', 'close_to_limits' columns of that row.\n",
    "    \n",
    "    :param row: A row of a dataframe\n",
    "    :type row: pd.Series\n",
    "    :return: A string indicating the colour\n",
    "    :rtype: str\n",
    "    \"\"\"\n",
    "    if row['outside_limits']:\n",
    "        return 'red'\n",
    "    elif row['close_to_limits']:\n",
    "        return 'yellow'\n",
    "    else:\n",
    "        return 'rgb(22, 96, 167)'\n",
    "\n",
    "remove = ['zoom2d','pan2d', 'select2d', 'lasso2d', 'zoomIn2d',\n",
    "            'zoomOut2d', 'autoScale2d', 'resetScale2d', 'zoom',\n",
    "            'pan', 'select', 'zoomIn', 'zoomOut', 'autoScale',\n",
    "            'resetScale', 'toggleSpikelines', 'hoverClosestCartesian',\n",
    "            'hoverCompareCartesian', 'toImage']\n",
    "\n",
    "def plot_line_chart(df, values_col, date_col, plot_title, x_lab, y_lab):\n",
    "    # Create a scatter plot of the data points\n",
    "    scatter = go.Scatter(\n",
    "        x=df[date_col],\n",
    "        y=df[values_col],\n",
    "        name = 'Performance',\n",
    "        mode='lines+markers',\n",
    "        marker=dict(\n",
    "            color=df.apply(lambda row: get_colour(row), axis=1),\n",
    "            size=10,\n",
    "            symbol='circle'),\n",
    "        line = dict(color = 'rgb(22, 96, 167)',\n",
    "                          width = 3, dash = 'solid'),\n",
    "        text = df.apply(lambda row: get_status(row), axis=1),\n",
    "        hovertemplate = '%{text}: %{y:.0f}<extra></extra>',\n",
    "    )\n",
    "    # Create a line plot of the mean\n",
    "    mean_line = go.Scatter(\n",
    "        x=df[date_col],\n",
    "        y=df['mean'],\n",
    "        mode='lines',\n",
    "        line = dict(color = 'rgba(174, 37, 115, 0.5)',\n",
    "                    width = 2,\n",
    "                    dash = 'dash'),\n",
    "        name = \"Mean\",\n",
    "        hovertemplate = 'mean: %{y:.0f}<extra></extra>',\n",
    "    )\n",
    "    # Create a shaded area for the lower and upper control limits\n",
    "    lpl_area = go.Scatter(\n",
    "        x=df[date_col],\n",
    "        y=df['lpl'],\n",
    "        mode='lines',\n",
    "        line=dict(\n",
    "            color='rgba(174, 37, 115, 0.1)',\n",
    "            width=0,\n",
    "        ),\n",
    "        name = \"lpl\",\n",
    "        hovertemplate = 'lpl: %{y:.0f}<extra></extra>',\n",
    "    )\n",
    "    upl_area = go.Scatter(\n",
    "        x=df[date_col],\n",
    "        y=df['upl'],\n",
    "        mode='lines',\n",
    "        line=dict(\n",
    "            color='rgba(174, 37, 115, 0.1)',\n",
    "            width=0,\n",
    "        ),\n",
    "        fill='tonexty',\n",
    "        fillcolor='rgba(174, 37, 115, 0.1)',\n",
    "        name = \"upl\",\n",
    "        hovertemplate = 'upl: %{y:.0f}<extra></extra>',\n",
    "    )\n",
    "    min_xaxis = min(df[date_col])\n",
    "    max_xaxis = max(df[date_col])\n",
    "    max_yaxis = max(df[values_col])\n",
    "    layout = go.Layout(title = plot_title,\n",
    "                   font = dict(size = 12),\n",
    "                   xaxis = dict(title = x_lab,\n",
    "                                # add more time to x-axis to show plot circles\n",
    "                                range = [min_xaxis - relativedelta(days=5),\n",
    "                                         max_xaxis + relativedelta(days=5)]),\n",
    "                   yaxis = dict(title = y_lab,\n",
    "                                # fix y0 at 0 and add 10% to y1\n",
    "                                range = [0, max_yaxis + (max_yaxis * 0.1)]),\n",
    "                   showlegend = False,\n",
    "                   hovermode = \"x unified\")\n",
    "    config = {'displaylogo': False,\n",
    "              'displayModeBar': True,\n",
    "              'modeBarButtonsToRemove': remove}\n",
    "    # Create the figure and show it\n",
    "    fig = go.Figure(data=[scatter, mean_line, lpl_area, upl_area], layout=layout)\n",
    "    fig.update_layout(template='plotly_white')\n",
    "    fig.show(config=config)\n"
   ]
  },
  {
   "cell_type": "code",
   "execution_count": 6,
   "metadata": {},
   "outputs": [
    {
     "data": {
      "text/html": [
       "<div>\n",
       "<style scoped>\n",
       "    .dataframe tbody tr th:only-of-type {\n",
       "        vertical-align: middle;\n",
       "    }\n",
       "\n",
       "    .dataframe tbody tr th {\n",
       "        vertical-align: top;\n",
       "    }\n",
       "\n",
       "    .dataframe thead th {\n",
       "        text-align: right;\n",
       "    }\n",
       "</style>\n",
       "<table border=\"1\" class=\"dataframe\">\n",
       "  <thead>\n",
       "    <tr style=\"text-align: right;\">\n",
       "      <th></th>\n",
       "      <th>period</th>\n",
       "      <th>org_code</th>\n",
       "      <th>type</th>\n",
       "      <th>attendances</th>\n",
       "      <th>breaches</th>\n",
       "      <th>admissions</th>\n",
       "    </tr>\n",
       "  </thead>\n",
       "  <tbody>\n",
       "    <tr>\n",
       "      <th>0</th>\n",
       "      <td>2016-04-01</td>\n",
       "      <td>RQM</td>\n",
       "      <td>1</td>\n",
       "      <td>15154</td>\n",
       "      <td>1199</td>\n",
       "      <td>3415</td>\n",
       "    </tr>\n",
       "    <tr>\n",
       "      <th>1</th>\n",
       "      <td>2016-05-01</td>\n",
       "      <td>RQM</td>\n",
       "      <td>1</td>\n",
       "      <td>16705</td>\n",
       "      <td>929</td>\n",
       "      <td>3590</td>\n",
       "    </tr>\n",
       "    <tr>\n",
       "      <th>2</th>\n",
       "      <td>2016-06-01</td>\n",
       "      <td>RQM</td>\n",
       "      <td>1</td>\n",
       "      <td>16021</td>\n",
       "      <td>970</td>\n",
       "      <td>3398</td>\n",
       "    </tr>\n",
       "    <tr>\n",
       "      <th>3</th>\n",
       "      <td>2016-07-01</td>\n",
       "      <td>RQM</td>\n",
       "      <td>1</td>\n",
       "      <td>16761</td>\n",
       "      <td>1178</td>\n",
       "      <td>3321</td>\n",
       "    </tr>\n",
       "    <tr>\n",
       "      <th>4</th>\n",
       "      <td>2016-08-01</td>\n",
       "      <td>RQM</td>\n",
       "      <td>1</td>\n",
       "      <td>15084</td>\n",
       "      <td>1110</td>\n",
       "      <td>3198</td>\n",
       "    </tr>\n",
       "    <tr>\n",
       "      <th>5</th>\n",
       "      <td>2016-09-01</td>\n",
       "      <td>RQM</td>\n",
       "      <td>1</td>\n",
       "      <td>15918</td>\n",
       "      <td>1388</td>\n",
       "      <td>3260</td>\n",
       "    </tr>\n",
       "    <tr>\n",
       "      <th>6</th>\n",
       "      <td>2016-10-01</td>\n",
       "      <td>RQM</td>\n",
       "      <td>1</td>\n",
       "      <td>16564</td>\n",
       "      <td>2061</td>\n",
       "      <td>3563</td>\n",
       "    </tr>\n",
       "    <tr>\n",
       "      <th>7</th>\n",
       "      <td>2016-11-01</td>\n",
       "      <td>RQM</td>\n",
       "      <td>1</td>\n",
       "      <td>16478</td>\n",
       "      <td>1985</td>\n",
       "      <td>3399</td>\n",
       "    </tr>\n",
       "    <tr>\n",
       "      <th>8</th>\n",
       "      <td>2016-12-01</td>\n",
       "      <td>RQM</td>\n",
       "      <td>1</td>\n",
       "      <td>16931</td>\n",
       "      <td>2675</td>\n",
       "      <td>3671</td>\n",
       "    </tr>\n",
       "    <tr>\n",
       "      <th>9</th>\n",
       "      <td>2017-01-01</td>\n",
       "      <td>RQM</td>\n",
       "      <td>1</td>\n",
       "      <td>16920</td>\n",
       "      <td>3141</td>\n",
       "      <td>3339</td>\n",
       "    </tr>\n",
       "    <tr>\n",
       "      <th>10</th>\n",
       "      <td>2017-02-01</td>\n",
       "      <td>RQM</td>\n",
       "      <td>1</td>\n",
       "      <td>14482</td>\n",
       "      <td>1942</td>\n",
       "      <td>3188</td>\n",
       "    </tr>\n",
       "    <tr>\n",
       "      <th>11</th>\n",
       "      <td>2017-03-01</td>\n",
       "      <td>RQM</td>\n",
       "      <td>1</td>\n",
       "      <td>17414</td>\n",
       "      <td>2030</td>\n",
       "      <td>3597</td>\n",
       "    </tr>\n",
       "    <tr>\n",
       "      <th>12</th>\n",
       "      <td>2017-04-01</td>\n",
       "      <td>RQM</td>\n",
       "      <td>1</td>\n",
       "      <td>15957</td>\n",
       "      <td>1309</td>\n",
       "      <td>3375</td>\n",
       "    </tr>\n",
       "    <tr>\n",
       "      <th>13</th>\n",
       "      <td>2017-05-01</td>\n",
       "      <td>RQM</td>\n",
       "      <td>1</td>\n",
       "      <td>17871</td>\n",
       "      <td>1960</td>\n",
       "      <td>3825</td>\n",
       "    </tr>\n",
       "    <tr>\n",
       "      <th>14</th>\n",
       "      <td>2017-06-01</td>\n",
       "      <td>RQM</td>\n",
       "      <td>1</td>\n",
       "      <td>16675</td>\n",
       "      <td>1169</td>\n",
       "      <td>3542</td>\n",
       "    </tr>\n",
       "    <tr>\n",
       "      <th>15</th>\n",
       "      <td>2017-07-01</td>\n",
       "      <td>RQM</td>\n",
       "      <td>1</td>\n",
       "      <td>17265</td>\n",
       "      <td>1117</td>\n",
       "      <td>3610</td>\n",
       "    </tr>\n",
       "    <tr>\n",
       "      <th>16</th>\n",
       "      <td>2017-08-01</td>\n",
       "      <td>RQM</td>\n",
       "      <td>1</td>\n",
       "      <td>15872</td>\n",
       "      <td>1085</td>\n",
       "      <td>3529</td>\n",
       "    </tr>\n",
       "    <tr>\n",
       "      <th>17</th>\n",
       "      <td>2017-09-01</td>\n",
       "      <td>RQM</td>\n",
       "      <td>1</td>\n",
       "      <td>16776</td>\n",
       "      <td>1492</td>\n",
       "      <td>3680</td>\n",
       "    </tr>\n",
       "    <tr>\n",
       "      <th>18</th>\n",
       "      <td>2017-10-01</td>\n",
       "      <td>RQM</td>\n",
       "      <td>1</td>\n",
       "      <td>18024</td>\n",
       "      <td>1280</td>\n",
       "      <td>3829</td>\n",
       "    </tr>\n",
       "    <tr>\n",
       "      <th>19</th>\n",
       "      <td>2017-11-01</td>\n",
       "      <td>RQM</td>\n",
       "      <td>1</td>\n",
       "      <td>17891</td>\n",
       "      <td>1197</td>\n",
       "      <td>3618</td>\n",
       "    </tr>\n",
       "    <tr>\n",
       "      <th>20</th>\n",
       "      <td>2017-12-01</td>\n",
       "      <td>RQM</td>\n",
       "      <td>1</td>\n",
       "      <td>17695</td>\n",
       "      <td>1569</td>\n",
       "      <td>3729</td>\n",
       "    </tr>\n",
       "    <tr>\n",
       "      <th>21</th>\n",
       "      <td>2018-01-01</td>\n",
       "      <td>RQM</td>\n",
       "      <td>1</td>\n",
       "      <td>17990</td>\n",
       "      <td>1406</td>\n",
       "      <td>3893</td>\n",
       "    </tr>\n",
       "    <tr>\n",
       "      <th>22</th>\n",
       "      <td>2018-02-01</td>\n",
       "      <td>RQM</td>\n",
       "      <td>1</td>\n",
       "      <td>16205</td>\n",
       "      <td>1328</td>\n",
       "      <td>3436</td>\n",
       "    </tr>\n",
       "    <tr>\n",
       "      <th>23</th>\n",
       "      <td>2018-03-01</td>\n",
       "      <td>RQM</td>\n",
       "      <td>1</td>\n",
       "      <td>18906</td>\n",
       "      <td>1564</td>\n",
       "      <td>3899</td>\n",
       "    </tr>\n",
       "  </tbody>\n",
       "</table>\n",
       "</div>"
      ],
      "text/plain": [
       "       period org_code type  attendances  breaches  admissions\n",
       "0  2016-04-01      RQM    1        15154      1199        3415\n",
       "1  2016-05-01      RQM    1        16705       929        3590\n",
       "2  2016-06-01      RQM    1        16021       970        3398\n",
       "3  2016-07-01      RQM    1        16761      1178        3321\n",
       "4  2016-08-01      RQM    1        15084      1110        3198\n",
       "5  2016-09-01      RQM    1        15918      1388        3260\n",
       "6  2016-10-01      RQM    1        16564      2061        3563\n",
       "7  2016-11-01      RQM    1        16478      1985        3399\n",
       "8  2016-12-01      RQM    1        16931      2675        3671\n",
       "9  2017-01-01      RQM    1        16920      3141        3339\n",
       "10 2017-02-01      RQM    1        14482      1942        3188\n",
       "11 2017-03-01      RQM    1        17414      2030        3597\n",
       "12 2017-04-01      RQM    1        15957      1309        3375\n",
       "13 2017-05-01      RQM    1        17871      1960        3825\n",
       "14 2017-06-01      RQM    1        16675      1169        3542\n",
       "15 2017-07-01      RQM    1        17265      1117        3610\n",
       "16 2017-08-01      RQM    1        15872      1085        3529\n",
       "17 2017-09-01      RQM    1        16776      1492        3680\n",
       "18 2017-10-01      RQM    1        18024      1280        3829\n",
       "19 2017-11-01      RQM    1        17891      1197        3618\n",
       "20 2017-12-01      RQM    1        17695      1569        3729\n",
       "21 2018-01-01      RQM    1        17990      1406        3893\n",
       "22 2018-02-01      RQM    1        16205      1328        3436\n",
       "23 2018-03-01      RQM    1        18906      1564        3899"
      ]
     },
     "execution_count": 6,
     "metadata": {},
     "output_type": "execute_result"
    }
   ],
   "source": [
    "# File path of the CSV file\n",
    "file_path = '.././nhspy_plotthedots/data/ae_attendances.csv'\n",
    "\n",
    "# Read the CSV file and store it in a DataFrame\n",
    "df = pd.read_csv(file_path)\n",
    "\n",
    "df\n",
    "\n",
    "from datetime import datetime\n",
    "\n",
    "# Convert 'period' column to datetime format\n",
    "df['period'] = pd.to_datetime(df['period'])\n",
    "\n",
    "# Create a subset of the DataFrame based on certain conditions\n",
    "sub_set = df[(df['org_code'] == \"RQM\") & (df['type'] == \"1\") & (df['period'] < datetime(2018, 4, 1))]\n",
    "sub_set = sub_set.sort_values(by='period').reset_index(drop=True)\n",
    "\n",
    "sub_set"
   ]
  },
  {
   "cell_type": "code",
   "execution_count": 7,
   "metadata": {},
   "outputs": [
    {
     "data": {
      "text/html": [
       "<div>\n",
       "<style scoped>\n",
       "    .dataframe tbody tr th:only-of-type {\n",
       "        vertical-align: middle;\n",
       "    }\n",
       "\n",
       "    .dataframe tbody tr th {\n",
       "        vertical-align: top;\n",
       "    }\n",
       "\n",
       "    .dataframe thead th {\n",
       "        text-align: right;\n",
       "    }\n",
       "</style>\n",
       "<table border=\"1\" class=\"dataframe\">\n",
       "  <thead>\n",
       "    <tr style=\"text-align: right;\">\n",
       "      <th></th>\n",
       "      <th>period</th>\n",
       "      <th>org_code</th>\n",
       "      <th>type</th>\n",
       "      <th>attendances</th>\n",
       "      <th>breaches</th>\n",
       "      <th>admissions</th>\n",
       "      <th>mean</th>\n",
       "      <th>lpl</th>\n",
       "      <th>upl</th>\n",
       "      <th>outside_limits</th>\n",
       "      <th>relative_to_mean</th>\n",
       "      <th>close_to_limits</th>\n",
       "      <th>special_cause_flag</th>\n",
       "    </tr>\n",
       "  </thead>\n",
       "  <tbody>\n",
       "    <tr>\n",
       "      <th>0</th>\n",
       "      <td>2016-04-01</td>\n",
       "      <td>RQM</td>\n",
       "      <td>1</td>\n",
       "      <td>15154</td>\n",
       "      <td>1199</td>\n",
       "      <td>3415</td>\n",
       "      <td>1545.166667</td>\n",
       "      <td>740.395758</td>\n",
       "      <td>2349.937576</td>\n",
       "      <td>False</td>\n",
       "      <td>-1.0</td>\n",
       "      <td>False</td>\n",
       "      <td>False</td>\n",
       "    </tr>\n",
       "    <tr>\n",
       "      <th>1</th>\n",
       "      <td>2016-05-01</td>\n",
       "      <td>RQM</td>\n",
       "      <td>1</td>\n",
       "      <td>16705</td>\n",
       "      <td>929</td>\n",
       "      <td>3590</td>\n",
       "      <td>1545.166667</td>\n",
       "      <td>740.395758</td>\n",
       "      <td>2349.937576</td>\n",
       "      <td>False</td>\n",
       "      <td>-1.0</td>\n",
       "      <td>True</td>\n",
       "      <td>True</td>\n",
       "    </tr>\n",
       "    <tr>\n",
       "      <th>2</th>\n",
       "      <td>2016-06-01</td>\n",
       "      <td>RQM</td>\n",
       "      <td>1</td>\n",
       "      <td>16021</td>\n",
       "      <td>970</td>\n",
       "      <td>3398</td>\n",
       "      <td>1545.166667</td>\n",
       "      <td>740.395758</td>\n",
       "      <td>2349.937576</td>\n",
       "      <td>False</td>\n",
       "      <td>-1.0</td>\n",
       "      <td>True</td>\n",
       "      <td>True</td>\n",
       "    </tr>\n",
       "    <tr>\n",
       "      <th>3</th>\n",
       "      <td>2016-07-01</td>\n",
       "      <td>RQM</td>\n",
       "      <td>1</td>\n",
       "      <td>16761</td>\n",
       "      <td>1178</td>\n",
       "      <td>3321</td>\n",
       "      <td>1545.166667</td>\n",
       "      <td>740.395758</td>\n",
       "      <td>2349.937576</td>\n",
       "      <td>False</td>\n",
       "      <td>-1.0</td>\n",
       "      <td>False</td>\n",
       "      <td>False</td>\n",
       "    </tr>\n",
       "    <tr>\n",
       "      <th>4</th>\n",
       "      <td>2016-08-01</td>\n",
       "      <td>RQM</td>\n",
       "      <td>1</td>\n",
       "      <td>15084</td>\n",
       "      <td>1110</td>\n",
       "      <td>3198</td>\n",
       "      <td>1545.166667</td>\n",
       "      <td>740.395758</td>\n",
       "      <td>2349.937576</td>\n",
       "      <td>False</td>\n",
       "      <td>-1.0</td>\n",
       "      <td>False</td>\n",
       "      <td>False</td>\n",
       "    </tr>\n",
       "    <tr>\n",
       "      <th>5</th>\n",
       "      <td>2016-09-01</td>\n",
       "      <td>RQM</td>\n",
       "      <td>1</td>\n",
       "      <td>15918</td>\n",
       "      <td>1388</td>\n",
       "      <td>3260</td>\n",
       "      <td>1545.166667</td>\n",
       "      <td>740.395758</td>\n",
       "      <td>2349.937576</td>\n",
       "      <td>False</td>\n",
       "      <td>-1.0</td>\n",
       "      <td>False</td>\n",
       "      <td>False</td>\n",
       "    </tr>\n",
       "    <tr>\n",
       "      <th>6</th>\n",
       "      <td>2016-10-01</td>\n",
       "      <td>RQM</td>\n",
       "      <td>1</td>\n",
       "      <td>16564</td>\n",
       "      <td>2061</td>\n",
       "      <td>3563</td>\n",
       "      <td>1545.166667</td>\n",
       "      <td>740.395758</td>\n",
       "      <td>2349.937576</td>\n",
       "      <td>False</td>\n",
       "      <td>1.0</td>\n",
       "      <td>False</td>\n",
       "      <td>False</td>\n",
       "    </tr>\n",
       "    <tr>\n",
       "      <th>7</th>\n",
       "      <td>2016-11-01</td>\n",
       "      <td>RQM</td>\n",
       "      <td>1</td>\n",
       "      <td>16478</td>\n",
       "      <td>1985</td>\n",
       "      <td>3399</td>\n",
       "      <td>1545.166667</td>\n",
       "      <td>740.395758</td>\n",
       "      <td>2349.937576</td>\n",
       "      <td>False</td>\n",
       "      <td>1.0</td>\n",
       "      <td>False</td>\n",
       "      <td>False</td>\n",
       "    </tr>\n",
       "    <tr>\n",
       "      <th>8</th>\n",
       "      <td>2016-12-01</td>\n",
       "      <td>RQM</td>\n",
       "      <td>1</td>\n",
       "      <td>16931</td>\n",
       "      <td>2675</td>\n",
       "      <td>3671</td>\n",
       "      <td>1545.166667</td>\n",
       "      <td>740.395758</td>\n",
       "      <td>2349.937576</td>\n",
       "      <td>True</td>\n",
       "      <td>1.0</td>\n",
       "      <td>False</td>\n",
       "      <td>True</td>\n",
       "    </tr>\n",
       "    <tr>\n",
       "      <th>9</th>\n",
       "      <td>2017-01-01</td>\n",
       "      <td>RQM</td>\n",
       "      <td>1</td>\n",
       "      <td>16920</td>\n",
       "      <td>3141</td>\n",
       "      <td>3339</td>\n",
       "      <td>1545.166667</td>\n",
       "      <td>740.395758</td>\n",
       "      <td>2349.937576</td>\n",
       "      <td>True</td>\n",
       "      <td>1.0</td>\n",
       "      <td>False</td>\n",
       "      <td>True</td>\n",
       "    </tr>\n",
       "    <tr>\n",
       "      <th>10</th>\n",
       "      <td>2017-02-01</td>\n",
       "      <td>RQM</td>\n",
       "      <td>1</td>\n",
       "      <td>14482</td>\n",
       "      <td>1942</td>\n",
       "      <td>3188</td>\n",
       "      <td>1545.166667</td>\n",
       "      <td>740.395758</td>\n",
       "      <td>2349.937576</td>\n",
       "      <td>False</td>\n",
       "      <td>1.0</td>\n",
       "      <td>False</td>\n",
       "      <td>False</td>\n",
       "    </tr>\n",
       "    <tr>\n",
       "      <th>11</th>\n",
       "      <td>2017-03-01</td>\n",
       "      <td>RQM</td>\n",
       "      <td>1</td>\n",
       "      <td>17414</td>\n",
       "      <td>2030</td>\n",
       "      <td>3597</td>\n",
       "      <td>1545.166667</td>\n",
       "      <td>740.395758</td>\n",
       "      <td>2349.937576</td>\n",
       "      <td>False</td>\n",
       "      <td>1.0</td>\n",
       "      <td>False</td>\n",
       "      <td>False</td>\n",
       "    </tr>\n",
       "    <tr>\n",
       "      <th>12</th>\n",
       "      <td>2017-04-01</td>\n",
       "      <td>RQM</td>\n",
       "      <td>1</td>\n",
       "      <td>15957</td>\n",
       "      <td>1309</td>\n",
       "      <td>3375</td>\n",
       "      <td>1545.166667</td>\n",
       "      <td>740.395758</td>\n",
       "      <td>2349.937576</td>\n",
       "      <td>False</td>\n",
       "      <td>-1.0</td>\n",
       "      <td>False</td>\n",
       "      <td>False</td>\n",
       "    </tr>\n",
       "    <tr>\n",
       "      <th>13</th>\n",
       "      <td>2017-05-01</td>\n",
       "      <td>RQM</td>\n",
       "      <td>1</td>\n",
       "      <td>17871</td>\n",
       "      <td>1960</td>\n",
       "      <td>3825</td>\n",
       "      <td>1545.166667</td>\n",
       "      <td>740.395758</td>\n",
       "      <td>2349.937576</td>\n",
       "      <td>False</td>\n",
       "      <td>1.0</td>\n",
       "      <td>False</td>\n",
       "      <td>False</td>\n",
       "    </tr>\n",
       "    <tr>\n",
       "      <th>14</th>\n",
       "      <td>2017-06-01</td>\n",
       "      <td>RQM</td>\n",
       "      <td>1</td>\n",
       "      <td>16675</td>\n",
       "      <td>1169</td>\n",
       "      <td>3542</td>\n",
       "      <td>1545.166667</td>\n",
       "      <td>740.395758</td>\n",
       "      <td>2349.937576</td>\n",
       "      <td>False</td>\n",
       "      <td>-1.0</td>\n",
       "      <td>False</td>\n",
       "      <td>False</td>\n",
       "    </tr>\n",
       "    <tr>\n",
       "      <th>15</th>\n",
       "      <td>2017-07-01</td>\n",
       "      <td>RQM</td>\n",
       "      <td>1</td>\n",
       "      <td>17265</td>\n",
       "      <td>1117</td>\n",
       "      <td>3610</td>\n",
       "      <td>1545.166667</td>\n",
       "      <td>740.395758</td>\n",
       "      <td>2349.937576</td>\n",
       "      <td>False</td>\n",
       "      <td>-1.0</td>\n",
       "      <td>False</td>\n",
       "      <td>False</td>\n",
       "    </tr>\n",
       "    <tr>\n",
       "      <th>16</th>\n",
       "      <td>2017-08-01</td>\n",
       "      <td>RQM</td>\n",
       "      <td>1</td>\n",
       "      <td>15872</td>\n",
       "      <td>1085</td>\n",
       "      <td>3529</td>\n",
       "      <td>1545.166667</td>\n",
       "      <td>740.395758</td>\n",
       "      <td>2349.937576</td>\n",
       "      <td>False</td>\n",
       "      <td>-1.0</td>\n",
       "      <td>False</td>\n",
       "      <td>False</td>\n",
       "    </tr>\n",
       "    <tr>\n",
       "      <th>17</th>\n",
       "      <td>2017-09-01</td>\n",
       "      <td>RQM</td>\n",
       "      <td>1</td>\n",
       "      <td>16776</td>\n",
       "      <td>1492</td>\n",
       "      <td>3680</td>\n",
       "      <td>1545.166667</td>\n",
       "      <td>740.395758</td>\n",
       "      <td>2349.937576</td>\n",
       "      <td>False</td>\n",
       "      <td>-1.0</td>\n",
       "      <td>False</td>\n",
       "      <td>False</td>\n",
       "    </tr>\n",
       "    <tr>\n",
       "      <th>18</th>\n",
       "      <td>2017-10-01</td>\n",
       "      <td>RQM</td>\n",
       "      <td>1</td>\n",
       "      <td>18024</td>\n",
       "      <td>1280</td>\n",
       "      <td>3829</td>\n",
       "      <td>1545.166667</td>\n",
       "      <td>740.395758</td>\n",
       "      <td>2349.937576</td>\n",
       "      <td>False</td>\n",
       "      <td>-1.0</td>\n",
       "      <td>False</td>\n",
       "      <td>False</td>\n",
       "    </tr>\n",
       "    <tr>\n",
       "      <th>19</th>\n",
       "      <td>2017-11-01</td>\n",
       "      <td>RQM</td>\n",
       "      <td>1</td>\n",
       "      <td>17891</td>\n",
       "      <td>1197</td>\n",
       "      <td>3618</td>\n",
       "      <td>1545.166667</td>\n",
       "      <td>740.395758</td>\n",
       "      <td>2349.937576</td>\n",
       "      <td>False</td>\n",
       "      <td>-1.0</td>\n",
       "      <td>False</td>\n",
       "      <td>False</td>\n",
       "    </tr>\n",
       "    <tr>\n",
       "      <th>20</th>\n",
       "      <td>2017-12-01</td>\n",
       "      <td>RQM</td>\n",
       "      <td>1</td>\n",
       "      <td>17695</td>\n",
       "      <td>1569</td>\n",
       "      <td>3729</td>\n",
       "      <td>1545.166667</td>\n",
       "      <td>740.395758</td>\n",
       "      <td>2349.937576</td>\n",
       "      <td>False</td>\n",
       "      <td>1.0</td>\n",
       "      <td>False</td>\n",
       "      <td>False</td>\n",
       "    </tr>\n",
       "    <tr>\n",
       "      <th>21</th>\n",
       "      <td>2018-01-01</td>\n",
       "      <td>RQM</td>\n",
       "      <td>1</td>\n",
       "      <td>17990</td>\n",
       "      <td>1406</td>\n",
       "      <td>3893</td>\n",
       "      <td>1545.166667</td>\n",
       "      <td>740.395758</td>\n",
       "      <td>2349.937576</td>\n",
       "      <td>False</td>\n",
       "      <td>-1.0</td>\n",
       "      <td>False</td>\n",
       "      <td>False</td>\n",
       "    </tr>\n",
       "    <tr>\n",
       "      <th>22</th>\n",
       "      <td>2018-02-01</td>\n",
       "      <td>RQM</td>\n",
       "      <td>1</td>\n",
       "      <td>16205</td>\n",
       "      <td>1328</td>\n",
       "      <td>3436</td>\n",
       "      <td>1545.166667</td>\n",
       "      <td>740.395758</td>\n",
       "      <td>2349.937576</td>\n",
       "      <td>False</td>\n",
       "      <td>-1.0</td>\n",
       "      <td>False</td>\n",
       "      <td>False</td>\n",
       "    </tr>\n",
       "    <tr>\n",
       "      <th>23</th>\n",
       "      <td>2018-03-01</td>\n",
       "      <td>RQM</td>\n",
       "      <td>1</td>\n",
       "      <td>18906</td>\n",
       "      <td>1564</td>\n",
       "      <td>3899</td>\n",
       "      <td>1545.166667</td>\n",
       "      <td>740.395758</td>\n",
       "      <td>2349.937576</td>\n",
       "      <td>False</td>\n",
       "      <td>1.0</td>\n",
       "      <td>False</td>\n",
       "      <td>False</td>\n",
       "    </tr>\n",
       "  </tbody>\n",
       "</table>\n",
       "</div>"
      ],
      "text/plain": [
       "       period org_code type  attendances  breaches  admissions         mean  \\\n",
       "0  2016-04-01      RQM    1        15154      1199        3415  1545.166667   \n",
       "1  2016-05-01      RQM    1        16705       929        3590  1545.166667   \n",
       "2  2016-06-01      RQM    1        16021       970        3398  1545.166667   \n",
       "3  2016-07-01      RQM    1        16761      1178        3321  1545.166667   \n",
       "4  2016-08-01      RQM    1        15084      1110        3198  1545.166667   \n",
       "5  2016-09-01      RQM    1        15918      1388        3260  1545.166667   \n",
       "6  2016-10-01      RQM    1        16564      2061        3563  1545.166667   \n",
       "7  2016-11-01      RQM    1        16478      1985        3399  1545.166667   \n",
       "8  2016-12-01      RQM    1        16931      2675        3671  1545.166667   \n",
       "9  2017-01-01      RQM    1        16920      3141        3339  1545.166667   \n",
       "10 2017-02-01      RQM    1        14482      1942        3188  1545.166667   \n",
       "11 2017-03-01      RQM    1        17414      2030        3597  1545.166667   \n",
       "12 2017-04-01      RQM    1        15957      1309        3375  1545.166667   \n",
       "13 2017-05-01      RQM    1        17871      1960        3825  1545.166667   \n",
       "14 2017-06-01      RQM    1        16675      1169        3542  1545.166667   \n",
       "15 2017-07-01      RQM    1        17265      1117        3610  1545.166667   \n",
       "16 2017-08-01      RQM    1        15872      1085        3529  1545.166667   \n",
       "17 2017-09-01      RQM    1        16776      1492        3680  1545.166667   \n",
       "18 2017-10-01      RQM    1        18024      1280        3829  1545.166667   \n",
       "19 2017-11-01      RQM    1        17891      1197        3618  1545.166667   \n",
       "20 2017-12-01      RQM    1        17695      1569        3729  1545.166667   \n",
       "21 2018-01-01      RQM    1        17990      1406        3893  1545.166667   \n",
       "22 2018-02-01      RQM    1        16205      1328        3436  1545.166667   \n",
       "23 2018-03-01      RQM    1        18906      1564        3899  1545.166667   \n",
       "\n",
       "           lpl          upl  outside_limits  relative_to_mean  \\\n",
       "0   740.395758  2349.937576           False              -1.0   \n",
       "1   740.395758  2349.937576           False              -1.0   \n",
       "2   740.395758  2349.937576           False              -1.0   \n",
       "3   740.395758  2349.937576           False              -1.0   \n",
       "4   740.395758  2349.937576           False              -1.0   \n",
       "5   740.395758  2349.937576           False              -1.0   \n",
       "6   740.395758  2349.937576           False               1.0   \n",
       "7   740.395758  2349.937576           False               1.0   \n",
       "8   740.395758  2349.937576            True               1.0   \n",
       "9   740.395758  2349.937576            True               1.0   \n",
       "10  740.395758  2349.937576           False               1.0   \n",
       "11  740.395758  2349.937576           False               1.0   \n",
       "12  740.395758  2349.937576           False              -1.0   \n",
       "13  740.395758  2349.937576           False               1.0   \n",
       "14  740.395758  2349.937576           False              -1.0   \n",
       "15  740.395758  2349.937576           False              -1.0   \n",
       "16  740.395758  2349.937576           False              -1.0   \n",
       "17  740.395758  2349.937576           False              -1.0   \n",
       "18  740.395758  2349.937576           False              -1.0   \n",
       "19  740.395758  2349.937576           False              -1.0   \n",
       "20  740.395758  2349.937576           False               1.0   \n",
       "21  740.395758  2349.937576           False              -1.0   \n",
       "22  740.395758  2349.937576           False              -1.0   \n",
       "23  740.395758  2349.937576           False               1.0   \n",
       "\n",
       "    close_to_limits  special_cause_flag  \n",
       "0             False               False  \n",
       "1              True                True  \n",
       "2              True                True  \n",
       "3             False               False  \n",
       "4             False               False  \n",
       "5             False               False  \n",
       "6             False               False  \n",
       "7             False               False  \n",
       "8             False                True  \n",
       "9             False                True  \n",
       "10            False               False  \n",
       "11            False               False  \n",
       "12            False               False  \n",
       "13            False               False  \n",
       "14            False               False  \n",
       "15            False               False  \n",
       "16            False               False  \n",
       "17            False               False  \n",
       "18            False               False  \n",
       "19            False               False  \n",
       "20            False               False  \n",
       "21            False               False  \n",
       "22            False               False  \n",
       "23            False               False  "
      ]
     },
     "execution_count": 7,
     "metadata": {},
     "output_type": "execute_result"
    }
   ],
   "source": [
    "spc = spc_x_calc_pandas(sub_set, 'breaches')\n",
    "spc"
   ]
  },
  {
   "cell_type": "code",
   "execution_count": 8,
   "metadata": {},
   "outputs": [
    {
     "data": {
      "application/vnd.plotly.v1+json": {
       "config": {
        "displayModeBar": true,
        "displaylogo": false,
        "modeBarButtonsToRemove": [
         "zoom2d",
         "pan2d",
         "select2d",
         "lasso2d",
         "zoomIn2d",
         "zoomOut2d",
         "autoScale2d",
         "resetScale2d",
         "zoom",
         "pan",
         "select",
         "zoomIn",
         "zoomOut",
         "autoScale",
         "resetScale",
         "toggleSpikelines",
         "hoverClosestCartesian",
         "hoverCompareCartesian",
         "toImage"
        ],
        "plotlyServerURL": "https://plot.ly"
       },
       "data": [
        {
         "hovertemplate": "%{text}: %{y:.0f}<extra></extra>",
         "line": {
          "color": "rgb(22, 96, 167)",
          "dash": "solid",
          "width": 3
         },
         "marker": {
          "color": [
           "rgb(22, 96, 167)",
           "yellow",
           "yellow",
           "rgb(22, 96, 167)",
           "rgb(22, 96, 167)",
           "rgb(22, 96, 167)",
           "rgb(22, 96, 167)",
           "rgb(22, 96, 167)",
           "red",
           "red",
           "rgb(22, 96, 167)",
           "rgb(22, 96, 167)",
           "rgb(22, 96, 167)",
           "rgb(22, 96, 167)",
           "rgb(22, 96, 167)",
           "rgb(22, 96, 167)",
           "rgb(22, 96, 167)",
           "rgb(22, 96, 167)",
           "rgb(22, 96, 167)",
           "rgb(22, 96, 167)",
           "rgb(22, 96, 167)",
           "rgb(22, 96, 167)",
           "rgb(22, 96, 167)",
           "rgb(22, 96, 167)"
          ],
          "size": 10,
          "symbol": "circle"
         },
         "mode": "lines+markers",
         "name": "Performance",
         "text": [
          "Below mean",
          "Close to limit",
          "Close to limit",
          "Below mean",
          "Below mean",
          "Below mean",
          "Above mean",
          "Above mean",
          "Outside Limit",
          "Outside Limit",
          "Above mean",
          "Above mean",
          "Below mean",
          "Above mean",
          "Below mean",
          "Below mean",
          "Below mean",
          "Below mean",
          "Below mean",
          "Below mean",
          "Above mean",
          "Below mean",
          "Below mean",
          "Above mean"
         ],
         "type": "scatter",
         "x": [
          "2016-04-01T00:00:00",
          "2016-05-01T00:00:00",
          "2016-06-01T00:00:00",
          "2016-07-01T00:00:00",
          "2016-08-01T00:00:00",
          "2016-09-01T00:00:00",
          "2016-10-01T00:00:00",
          "2016-11-01T00:00:00",
          "2016-12-01T00:00:00",
          "2017-01-01T00:00:00",
          "2017-02-01T00:00:00",
          "2017-03-01T00:00:00",
          "2017-04-01T00:00:00",
          "2017-05-01T00:00:00",
          "2017-06-01T00:00:00",
          "2017-07-01T00:00:00",
          "2017-08-01T00:00:00",
          "2017-09-01T00:00:00",
          "2017-10-01T00:00:00",
          "2017-11-01T00:00:00",
          "2017-12-01T00:00:00",
          "2018-01-01T00:00:00",
          "2018-02-01T00:00:00",
          "2018-03-01T00:00:00"
         ],
         "y": [
          1199,
          929,
          970,
          1178,
          1110,
          1388,
          2061,
          1985,
          2675,
          3141,
          1942,
          2030,
          1309,
          1960,
          1169,
          1117,
          1085,
          1492,
          1280,
          1197,
          1569,
          1406,
          1328,
          1564
         ]
        },
        {
         "hovertemplate": "mean: %{y:.0f}<extra></extra>",
         "line": {
          "color": "rgba(174, 37, 115, 0.5)",
          "dash": "dash",
          "width": 2
         },
         "mode": "lines",
         "name": "Mean",
         "type": "scatter",
         "x": [
          "2016-04-01T00:00:00",
          "2016-05-01T00:00:00",
          "2016-06-01T00:00:00",
          "2016-07-01T00:00:00",
          "2016-08-01T00:00:00",
          "2016-09-01T00:00:00",
          "2016-10-01T00:00:00",
          "2016-11-01T00:00:00",
          "2016-12-01T00:00:00",
          "2017-01-01T00:00:00",
          "2017-02-01T00:00:00",
          "2017-03-01T00:00:00",
          "2017-04-01T00:00:00",
          "2017-05-01T00:00:00",
          "2017-06-01T00:00:00",
          "2017-07-01T00:00:00",
          "2017-08-01T00:00:00",
          "2017-09-01T00:00:00",
          "2017-10-01T00:00:00",
          "2017-11-01T00:00:00",
          "2017-12-01T00:00:00",
          "2018-01-01T00:00:00",
          "2018-02-01T00:00:00",
          "2018-03-01T00:00:00"
         ],
         "y": [
          1545.1666666666667,
          1545.1666666666667,
          1545.1666666666667,
          1545.1666666666667,
          1545.1666666666667,
          1545.1666666666667,
          1545.1666666666667,
          1545.1666666666667,
          1545.1666666666667,
          1545.1666666666667,
          1545.1666666666667,
          1545.1666666666667,
          1545.1666666666667,
          1545.1666666666667,
          1545.1666666666667,
          1545.1666666666667,
          1545.1666666666667,
          1545.1666666666667,
          1545.1666666666667,
          1545.1666666666667,
          1545.1666666666667,
          1545.1666666666667,
          1545.1666666666667,
          1545.1666666666667
         ]
        },
        {
         "hovertemplate": "lpl: %{y:.0f}<extra></extra>",
         "line": {
          "color": "rgba(174, 37, 115, 0.1)",
          "width": 0
         },
         "mode": "lines",
         "name": "lpl",
         "type": "scatter",
         "x": [
          "2016-04-01T00:00:00",
          "2016-05-01T00:00:00",
          "2016-06-01T00:00:00",
          "2016-07-01T00:00:00",
          "2016-08-01T00:00:00",
          "2016-09-01T00:00:00",
          "2016-10-01T00:00:00",
          "2016-11-01T00:00:00",
          "2016-12-01T00:00:00",
          "2017-01-01T00:00:00",
          "2017-02-01T00:00:00",
          "2017-03-01T00:00:00",
          "2017-04-01T00:00:00",
          "2017-05-01T00:00:00",
          "2017-06-01T00:00:00",
          "2017-07-01T00:00:00",
          "2017-08-01T00:00:00",
          "2017-09-01T00:00:00",
          "2017-10-01T00:00:00",
          "2017-11-01T00:00:00",
          "2017-12-01T00:00:00",
          "2018-01-01T00:00:00",
          "2018-02-01T00:00:00",
          "2018-03-01T00:00:00"
         ],
         "y": [
          740.3957575757576,
          740.3957575757576,
          740.3957575757576,
          740.3957575757576,
          740.3957575757576,
          740.3957575757576,
          740.3957575757576,
          740.3957575757576,
          740.3957575757576,
          740.3957575757576,
          740.3957575757576,
          740.3957575757576,
          740.3957575757576,
          740.3957575757576,
          740.3957575757576,
          740.3957575757576,
          740.3957575757576,
          740.3957575757576,
          740.3957575757576,
          740.3957575757576,
          740.3957575757576,
          740.3957575757576,
          740.3957575757576,
          740.3957575757576
         ]
        },
        {
         "fill": "tonexty",
         "fillcolor": "rgba(174, 37, 115, 0.1)",
         "hovertemplate": "upl: %{y:.0f}<extra></extra>",
         "line": {
          "color": "rgba(174, 37, 115, 0.1)",
          "width": 0
         },
         "mode": "lines",
         "name": "upl",
         "type": "scatter",
         "x": [
          "2016-04-01T00:00:00",
          "2016-05-01T00:00:00",
          "2016-06-01T00:00:00",
          "2016-07-01T00:00:00",
          "2016-08-01T00:00:00",
          "2016-09-01T00:00:00",
          "2016-10-01T00:00:00",
          "2016-11-01T00:00:00",
          "2016-12-01T00:00:00",
          "2017-01-01T00:00:00",
          "2017-02-01T00:00:00",
          "2017-03-01T00:00:00",
          "2017-04-01T00:00:00",
          "2017-05-01T00:00:00",
          "2017-06-01T00:00:00",
          "2017-07-01T00:00:00",
          "2017-08-01T00:00:00",
          "2017-09-01T00:00:00",
          "2017-10-01T00:00:00",
          "2017-11-01T00:00:00",
          "2017-12-01T00:00:00",
          "2018-01-01T00:00:00",
          "2018-02-01T00:00:00",
          "2018-03-01T00:00:00"
         ],
         "y": [
          2349.937575757576,
          2349.937575757576,
          2349.937575757576,
          2349.937575757576,
          2349.937575757576,
          2349.937575757576,
          2349.937575757576,
          2349.937575757576,
          2349.937575757576,
          2349.937575757576,
          2349.937575757576,
          2349.937575757576,
          2349.937575757576,
          2349.937575757576,
          2349.937575757576,
          2349.937575757576,
          2349.937575757576,
          2349.937575757576,
          2349.937575757576,
          2349.937575757576,
          2349.937575757576,
          2349.937575757576,
          2349.937575757576,
          2349.937575757576
         ]
        }
       ],
       "layout": {
        "font": {
         "size": 12
        },
        "hovermode": "x unified",
        "showlegend": false,
        "template": {
         "data": {
          "bar": [
           {
            "error_x": {
             "color": "#2a3f5f"
            },
            "error_y": {
             "color": "#2a3f5f"
            },
            "marker": {
             "line": {
              "color": "white",
              "width": 0.5
             },
             "pattern": {
              "fillmode": "overlay",
              "size": 10,
              "solidity": 0.2
             }
            },
            "type": "bar"
           }
          ],
          "barpolar": [
           {
            "marker": {
             "line": {
              "color": "white",
              "width": 0.5
             },
             "pattern": {
              "fillmode": "overlay",
              "size": 10,
              "solidity": 0.2
             }
            },
            "type": "barpolar"
           }
          ],
          "carpet": [
           {
            "aaxis": {
             "endlinecolor": "#2a3f5f",
             "gridcolor": "#C8D4E3",
             "linecolor": "#C8D4E3",
             "minorgridcolor": "#C8D4E3",
             "startlinecolor": "#2a3f5f"
            },
            "baxis": {
             "endlinecolor": "#2a3f5f",
             "gridcolor": "#C8D4E3",
             "linecolor": "#C8D4E3",
             "minorgridcolor": "#C8D4E3",
             "startlinecolor": "#2a3f5f"
            },
            "type": "carpet"
           }
          ],
          "choropleth": [
           {
            "colorbar": {
             "outlinewidth": 0,
             "ticks": ""
            },
            "type": "choropleth"
           }
          ],
          "contour": [
           {
            "colorbar": {
             "outlinewidth": 0,
             "ticks": ""
            },
            "colorscale": [
             [
              0,
              "#0d0887"
             ],
             [
              0.1111111111111111,
              "#46039f"
             ],
             [
              0.2222222222222222,
              "#7201a8"
             ],
             [
              0.3333333333333333,
              "#9c179e"
             ],
             [
              0.4444444444444444,
              "#bd3786"
             ],
             [
              0.5555555555555556,
              "#d8576b"
             ],
             [
              0.6666666666666666,
              "#ed7953"
             ],
             [
              0.7777777777777778,
              "#fb9f3a"
             ],
             [
              0.8888888888888888,
              "#fdca26"
             ],
             [
              1,
              "#f0f921"
             ]
            ],
            "type": "contour"
           }
          ],
          "contourcarpet": [
           {
            "colorbar": {
             "outlinewidth": 0,
             "ticks": ""
            },
            "type": "contourcarpet"
           }
          ],
          "heatmap": [
           {
            "colorbar": {
             "outlinewidth": 0,
             "ticks": ""
            },
            "colorscale": [
             [
              0,
              "#0d0887"
             ],
             [
              0.1111111111111111,
              "#46039f"
             ],
             [
              0.2222222222222222,
              "#7201a8"
             ],
             [
              0.3333333333333333,
              "#9c179e"
             ],
             [
              0.4444444444444444,
              "#bd3786"
             ],
             [
              0.5555555555555556,
              "#d8576b"
             ],
             [
              0.6666666666666666,
              "#ed7953"
             ],
             [
              0.7777777777777778,
              "#fb9f3a"
             ],
             [
              0.8888888888888888,
              "#fdca26"
             ],
             [
              1,
              "#f0f921"
             ]
            ],
            "type": "heatmap"
           }
          ],
          "heatmapgl": [
           {
            "colorbar": {
             "outlinewidth": 0,
             "ticks": ""
            },
            "colorscale": [
             [
              0,
              "#0d0887"
             ],
             [
              0.1111111111111111,
              "#46039f"
             ],
             [
              0.2222222222222222,
              "#7201a8"
             ],
             [
              0.3333333333333333,
              "#9c179e"
             ],
             [
              0.4444444444444444,
              "#bd3786"
             ],
             [
              0.5555555555555556,
              "#d8576b"
             ],
             [
              0.6666666666666666,
              "#ed7953"
             ],
             [
              0.7777777777777778,
              "#fb9f3a"
             ],
             [
              0.8888888888888888,
              "#fdca26"
             ],
             [
              1,
              "#f0f921"
             ]
            ],
            "type": "heatmapgl"
           }
          ],
          "histogram": [
           {
            "marker": {
             "pattern": {
              "fillmode": "overlay",
              "size": 10,
              "solidity": 0.2
             }
            },
            "type": "histogram"
           }
          ],
          "histogram2d": [
           {
            "colorbar": {
             "outlinewidth": 0,
             "ticks": ""
            },
            "colorscale": [
             [
              0,
              "#0d0887"
             ],
             [
              0.1111111111111111,
              "#46039f"
             ],
             [
              0.2222222222222222,
              "#7201a8"
             ],
             [
              0.3333333333333333,
              "#9c179e"
             ],
             [
              0.4444444444444444,
              "#bd3786"
             ],
             [
              0.5555555555555556,
              "#d8576b"
             ],
             [
              0.6666666666666666,
              "#ed7953"
             ],
             [
              0.7777777777777778,
              "#fb9f3a"
             ],
             [
              0.8888888888888888,
              "#fdca26"
             ],
             [
              1,
              "#f0f921"
             ]
            ],
            "type": "histogram2d"
           }
          ],
          "histogram2dcontour": [
           {
            "colorbar": {
             "outlinewidth": 0,
             "ticks": ""
            },
            "colorscale": [
             [
              0,
              "#0d0887"
             ],
             [
              0.1111111111111111,
              "#46039f"
             ],
             [
              0.2222222222222222,
              "#7201a8"
             ],
             [
              0.3333333333333333,
              "#9c179e"
             ],
             [
              0.4444444444444444,
              "#bd3786"
             ],
             [
              0.5555555555555556,
              "#d8576b"
             ],
             [
              0.6666666666666666,
              "#ed7953"
             ],
             [
              0.7777777777777778,
              "#fb9f3a"
             ],
             [
              0.8888888888888888,
              "#fdca26"
             ],
             [
              1,
              "#f0f921"
             ]
            ],
            "type": "histogram2dcontour"
           }
          ],
          "mesh3d": [
           {
            "colorbar": {
             "outlinewidth": 0,
             "ticks": ""
            },
            "type": "mesh3d"
           }
          ],
          "parcoords": [
           {
            "line": {
             "colorbar": {
              "outlinewidth": 0,
              "ticks": ""
             }
            },
            "type": "parcoords"
           }
          ],
          "pie": [
           {
            "automargin": true,
            "type": "pie"
           }
          ],
          "scatter": [
           {
            "fillpattern": {
             "fillmode": "overlay",
             "size": 10,
             "solidity": 0.2
            },
            "type": "scatter"
           }
          ],
          "scatter3d": [
           {
            "line": {
             "colorbar": {
              "outlinewidth": 0,
              "ticks": ""
             }
            },
            "marker": {
             "colorbar": {
              "outlinewidth": 0,
              "ticks": ""
             }
            },
            "type": "scatter3d"
           }
          ],
          "scattercarpet": [
           {
            "marker": {
             "colorbar": {
              "outlinewidth": 0,
              "ticks": ""
             }
            },
            "type": "scattercarpet"
           }
          ],
          "scattergeo": [
           {
            "marker": {
             "colorbar": {
              "outlinewidth": 0,
              "ticks": ""
             }
            },
            "type": "scattergeo"
           }
          ],
          "scattergl": [
           {
            "marker": {
             "colorbar": {
              "outlinewidth": 0,
              "ticks": ""
             }
            },
            "type": "scattergl"
           }
          ],
          "scattermapbox": [
           {
            "marker": {
             "colorbar": {
              "outlinewidth": 0,
              "ticks": ""
             }
            },
            "type": "scattermapbox"
           }
          ],
          "scatterpolar": [
           {
            "marker": {
             "colorbar": {
              "outlinewidth": 0,
              "ticks": ""
             }
            },
            "type": "scatterpolar"
           }
          ],
          "scatterpolargl": [
           {
            "marker": {
             "colorbar": {
              "outlinewidth": 0,
              "ticks": ""
             }
            },
            "type": "scatterpolargl"
           }
          ],
          "scatterternary": [
           {
            "marker": {
             "colorbar": {
              "outlinewidth": 0,
              "ticks": ""
             }
            },
            "type": "scatterternary"
           }
          ],
          "surface": [
           {
            "colorbar": {
             "outlinewidth": 0,
             "ticks": ""
            },
            "colorscale": [
             [
              0,
              "#0d0887"
             ],
             [
              0.1111111111111111,
              "#46039f"
             ],
             [
              0.2222222222222222,
              "#7201a8"
             ],
             [
              0.3333333333333333,
              "#9c179e"
             ],
             [
              0.4444444444444444,
              "#bd3786"
             ],
             [
              0.5555555555555556,
              "#d8576b"
             ],
             [
              0.6666666666666666,
              "#ed7953"
             ],
             [
              0.7777777777777778,
              "#fb9f3a"
             ],
             [
              0.8888888888888888,
              "#fdca26"
             ],
             [
              1,
              "#f0f921"
             ]
            ],
            "type": "surface"
           }
          ],
          "table": [
           {
            "cells": {
             "fill": {
              "color": "#EBF0F8"
             },
             "line": {
              "color": "white"
             }
            },
            "header": {
             "fill": {
              "color": "#C8D4E3"
             },
             "line": {
              "color": "white"
             }
            },
            "type": "table"
           }
          ]
         },
         "layout": {
          "annotationdefaults": {
           "arrowcolor": "#2a3f5f",
           "arrowhead": 0,
           "arrowwidth": 1
          },
          "autotypenumbers": "strict",
          "coloraxis": {
           "colorbar": {
            "outlinewidth": 0,
            "ticks": ""
           }
          },
          "colorscale": {
           "diverging": [
            [
             0,
             "#8e0152"
            ],
            [
             0.1,
             "#c51b7d"
            ],
            [
             0.2,
             "#de77ae"
            ],
            [
             0.3,
             "#f1b6da"
            ],
            [
             0.4,
             "#fde0ef"
            ],
            [
             0.5,
             "#f7f7f7"
            ],
            [
             0.6,
             "#e6f5d0"
            ],
            [
             0.7,
             "#b8e186"
            ],
            [
             0.8,
             "#7fbc41"
            ],
            [
             0.9,
             "#4d9221"
            ],
            [
             1,
             "#276419"
            ]
           ],
           "sequential": [
            [
             0,
             "#0d0887"
            ],
            [
             0.1111111111111111,
             "#46039f"
            ],
            [
             0.2222222222222222,
             "#7201a8"
            ],
            [
             0.3333333333333333,
             "#9c179e"
            ],
            [
             0.4444444444444444,
             "#bd3786"
            ],
            [
             0.5555555555555556,
             "#d8576b"
            ],
            [
             0.6666666666666666,
             "#ed7953"
            ],
            [
             0.7777777777777778,
             "#fb9f3a"
            ],
            [
             0.8888888888888888,
             "#fdca26"
            ],
            [
             1,
             "#f0f921"
            ]
           ],
           "sequentialminus": [
            [
             0,
             "#0d0887"
            ],
            [
             0.1111111111111111,
             "#46039f"
            ],
            [
             0.2222222222222222,
             "#7201a8"
            ],
            [
             0.3333333333333333,
             "#9c179e"
            ],
            [
             0.4444444444444444,
             "#bd3786"
            ],
            [
             0.5555555555555556,
             "#d8576b"
            ],
            [
             0.6666666666666666,
             "#ed7953"
            ],
            [
             0.7777777777777778,
             "#fb9f3a"
            ],
            [
             0.8888888888888888,
             "#fdca26"
            ],
            [
             1,
             "#f0f921"
            ]
           ]
          },
          "colorway": [
           "#636efa",
           "#EF553B",
           "#00cc96",
           "#ab63fa",
           "#FFA15A",
           "#19d3f3",
           "#FF6692",
           "#B6E880",
           "#FF97FF",
           "#FECB52"
          ],
          "font": {
           "color": "#2a3f5f"
          },
          "geo": {
           "bgcolor": "white",
           "lakecolor": "white",
           "landcolor": "white",
           "showlakes": true,
           "showland": true,
           "subunitcolor": "#C8D4E3"
          },
          "hoverlabel": {
           "align": "left"
          },
          "hovermode": "closest",
          "mapbox": {
           "style": "light"
          },
          "paper_bgcolor": "white",
          "plot_bgcolor": "white",
          "polar": {
           "angularaxis": {
            "gridcolor": "#EBF0F8",
            "linecolor": "#EBF0F8",
            "ticks": ""
           },
           "bgcolor": "white",
           "radialaxis": {
            "gridcolor": "#EBF0F8",
            "linecolor": "#EBF0F8",
            "ticks": ""
           }
          },
          "scene": {
           "xaxis": {
            "backgroundcolor": "white",
            "gridcolor": "#DFE8F3",
            "gridwidth": 2,
            "linecolor": "#EBF0F8",
            "showbackground": true,
            "ticks": "",
            "zerolinecolor": "#EBF0F8"
           },
           "yaxis": {
            "backgroundcolor": "white",
            "gridcolor": "#DFE8F3",
            "gridwidth": 2,
            "linecolor": "#EBF0F8",
            "showbackground": true,
            "ticks": "",
            "zerolinecolor": "#EBF0F8"
           },
           "zaxis": {
            "backgroundcolor": "white",
            "gridcolor": "#DFE8F3",
            "gridwidth": 2,
            "linecolor": "#EBF0F8",
            "showbackground": true,
            "ticks": "",
            "zerolinecolor": "#EBF0F8"
           }
          },
          "shapedefaults": {
           "line": {
            "color": "#2a3f5f"
           }
          },
          "ternary": {
           "aaxis": {
            "gridcolor": "#DFE8F3",
            "linecolor": "#A2B1C6",
            "ticks": ""
           },
           "baxis": {
            "gridcolor": "#DFE8F3",
            "linecolor": "#A2B1C6",
            "ticks": ""
           },
           "bgcolor": "white",
           "caxis": {
            "gridcolor": "#DFE8F3",
            "linecolor": "#A2B1C6",
            "ticks": ""
           }
          },
          "title": {
           "x": 0.05
          },
          "xaxis": {
           "automargin": true,
           "gridcolor": "#EBF0F8",
           "linecolor": "#EBF0F8",
           "ticks": "",
           "title": {
            "standoff": 15
           },
           "zerolinecolor": "#EBF0F8",
           "zerolinewidth": 2
          },
          "yaxis": {
           "automargin": true,
           "gridcolor": "#EBF0F8",
           "linecolor": "#EBF0F8",
           "ticks": "",
           "title": {
            "standoff": 15
           },
           "zerolinecolor": "#EBF0F8",
           "zerolinewidth": 2
          }
         }
        },
        "title": {
         "text": "Chelsea & Westminster Hospital NHS Foundation Trust (RQM)"
        },
        "xaxis": {
         "range": [
          "2016-03-27T00:00:00",
          "2018-03-06T00:00:00"
         ],
         "title": {
          "text": "Month of attendance"
         }
        },
        "yaxis": {
         "range": [
          0,
          3455.1
         ],
         "title": {
          "text": "Number of 4-Hour Target Breaches"
         }
        }
       }
      }
     },
     "metadata": {},
     "output_type": "display_data"
    }
   ],
   "source": [
    "plot_line_chart(spc, 'breaches', 'period', plot_title = 'Chelsea & Westminster Hospital NHS Foundation Trust (RQM)', x_lab = 'Month of attendance', y_lab = 'Number of 4-Hour Target Breaches')"
   ]
  }
 ],
 "metadata": {
  "kernelspec": {
   "display_name": "Python 3",
   "language": "python",
   "name": "python3"
  },
  "language_info": {
   "codemirror_mode": {
    "name": "ipython",
    "version": 3
   },
   "file_extension": ".py",
   "mimetype": "text/x-python",
   "name": "python",
   "nbconvert_exporter": "python",
   "pygments_lexer": "ipython3",
   "version": "3.10.9"
  },
  "orig_nbformat": 4,
  "vscode": {
   "interpreter": {
    "hash": "b0fa6594d8f4cbf19f97940f81e996739fb7646882a419484c72d19e05852a7e"
   }
  }
 },
 "nbformat": 4,
 "nbformat_minor": 2
}
